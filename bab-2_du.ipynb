{
 "cells": [
  {
   "cell_type": "markdown",
   "id": "a8699efc",
   "metadata": {},
   "source": [
    "# Data Understanding"
   ]
  },
  {
   "cell_type": "markdown",
   "id": "8bbcc93f",
   "metadata": {},
   "source": [
    "## Eksplorasi Data"
   ]
  }
 ],
 "metadata": {
  "language_info": {
   "name": "python"
  }
 },
 "nbformat": 4,
 "nbformat_minor": 5
}
