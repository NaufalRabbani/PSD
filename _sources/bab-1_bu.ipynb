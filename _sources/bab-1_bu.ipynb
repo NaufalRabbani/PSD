{
 "cells": [
  {
   "cell_type": "markdown",
   "id": "faa06769",
   "metadata": {},
   "source": [
    "# Memahami Bisnis"
   ]
  },
  {
   "cell_type": "markdown",
   "id": "2924c30c",
   "metadata": {},
   "source": [
    "**Tujuan**: \\\n",
    "Tujuan utama dari dataset Iris adalah untuk membuat model yang dapat mengklasifikasikan spesies bunga Iris berdasarkan pengukuran kelopak (sepal) dan mahkota (petal) bunga tersebut. Ini adalah masalah klasifikasi multikelas, di mana kita ingin memprediksi salah satu dari tiga kelas (spesies) yang ada.\n",
    "\n",
    "**Masalah Bisnis**: \\\n",
    "Bayangkan Anda adalah seorang ahli botani, peneliti, atau bahkan pengelola kebun bunga. Anda ingin dapat mengidentifikasi spesies bunga Iris dengan cepat dan akurat tanpa harus melakukan analisis genetik yang rumit dan mahal. Dengan memiliki model prediktif, Anda dapat:\n",
    "\n",
    "1. Mengotomatiskan Identifikasi: Cukup dengan mengukur panjang dan lebar kelopak serta mahkota bunga, Anda bisa langsung mengetahui spesiesnya. Hal ini sangat menghemat waktu dan tenaga, terutama jika Anda berurusan dengan ratusan atau ribuan bunga.\n",
    "\n",
    "2. Aplikasi di Lapangan: Sebuah aplikasi di smartphone bisa dikembangkan untuk mengidentifikasi spesies bunga secara real-time hanya dengan mengambil gambar dan mengukur dimensi bunga tersebut.\n",
    "\n",
    "3. Kontrol Kualitas: Di industri pembibitan, model ini dapat digunakan untuk memastikan bahwa bibit yang akan dijual sudah diberi label spesies yang benar.\n",
    "\n",
    "4. Pendidikan: Dataset ini merupakan contoh klasik yang sangat baik untuk mempelajari dan mengajarkan konsep-konsep dasar dalam machine learning dan statistik, seperti klasifikasi, analisis diskriminan, dan visualisasi data."
   ]
  }
 ],
 "metadata": {
  "language_info": {
   "name": "python"
  }
 },
 "nbformat": 4,
 "nbformat_minor": 5
}
