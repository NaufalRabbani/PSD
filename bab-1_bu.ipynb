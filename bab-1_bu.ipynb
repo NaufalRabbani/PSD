{
 "cells": [
  {
   "cell_type": "markdown",
   "id": "faa06769",
   "metadata": {},
   "source": [
    "# Memahami Bisnis"
   ]
  },
  {
   "cell_type": "markdown",
   "id": "2924c30c",
   "metadata": {},
   "source": [
    "### Latar Belakang\n",
    "\n",
    "Di lingkungan klinis seperti rumah sakit atau unit gawat darurat, tenaga medis secara terus-menerus memantau tanda-tanda vital pasien untuk menilai kondisi mereka. Proses ini menghasilkan volume data yang sangat besar dan real-time. Interpretasi data ini secara manual untuk memprediksi risiko perburukan kondisi pasien bisa menjadi tantangan—memakan waktu, membutuhkan pengalaman tinggi, dan rentan terhadap *human error*, terutama dalam situasi tekanan tinggi.\n",
    "\n",
    "Oleh karena itu, ada kebutuhan mendesak untuk mengembangkan sistem cerdas yang dapat secara otomatis menganalisis data pasien dan memberikan peringatan dini. Pemanfaatan teknik *data mining* dan *machine learning* pada data riwayat kesehatan pasien membuka peluang untuk menciptakan alat bantu pengambilan keputusan klinis yang proaktif, bukan reaktif.\n",
    "\n",
    "### Tujuan Bisnis\n",
    "\n",
    "Dari sudut pandang penyedia layanan kesehatan, proyek ini memiliki beberapa tujuan bisnis strategis:\n",
    "\n",
    "1.  **Meningkatkan Kualitas Perawatan Pasien:** Dengan mengidentifikasi pasien berisiko tinggi lebih awal, tim medis dapat melakukan intervensi secara cepat dan tepat, sehingga mencegah perburukan kondisi dan meningkatkan peluang kesembuhan pasien.\n",
    "2.  **Mengoptimalkan Alokasi Sumber Daya:** Model prediksi dapat membantu manajemen rumah sakit dalam mengalokasikan sumber daya kritis—seperti tempat tidur di Unit Perawatan Intensif (ICU), ventilator, atau staf medis ahli—kepada pasien yang paling membutuhkannya.\n",
    "3.  **Mengurangi Kejadian Medis yang Merugikan:** Sistem peringatan dini dapat secara signifikan menurunkan angka kejadian yang tidak diinginkan (*adverse events*), seperti serangan jantung, sepsis, atau gagal napas di lingkungan rumah sakit.\n",
    "4.  **Meningkatkan Efisiensi Operasional:** Mengotomatiskan proses penilaian risiko awal dapat mengurangi beban kerja tenaga medis, memungkinkan mereka untuk lebih fokus pada perawatan langsung kepada pasien.\n",
    "\n",
    "### Tujuan Data Mining\n",
    "\n",
    "Untuk mencapai tujuan bisnis di atas, tujuan teknis atau *data mining* dari proyek ini adalah:\n",
    "\n",
    "1.  **Membangun Model Klasifikasi:** Mengembangkan sebuah model *machine learning* yang mampu secara akurat mengklasifikasikan setiap pasien ke dalam salah satu dari empat kategori risiko: **`High`**, **`Medium`**, **`Low`**, atau **`Normal`**, berdasarkan data tanda vital dan status klinis mereka.\n",
    "2.  **Mengidentifikasi Faktor Risiko Utama:** Menganalisis model untuk menemukan variabel atau kombinasi variabel (misalnya, laju pernapasan dan saturasi oksigen) yang paling signifikan dalam menentukan tingkat risiko seorang pasien. Ini dapat memberikan wawasan klinis yang berharga.\n",
    "3.  **Validasi dan Evaluasi Model:** Menguji performa model menggunakan metrik standar untuk memastikan model tersebut andal, kuat, dan dapat digeneralisasi untuk digunakan pada data pasien baru.\n",
    "\n",
    "### Indikator Keberhasilan\n",
    "\n",
    "Keberhasilan proyek ini akan diukur melalui dua perspektif:\n",
    "\n",
    "**1. Indikator Keberhasilan Bisnis (KPIs):**\n",
    "* **Penurunan waktu respons:** Berkurangnya waktu rata-rata dari identifikasi pasien berisiko tinggi hingga dilakukannya intervensi medis.\n",
    "* **Penurunan angka komplikasi:** Menurunnya jumlah pasien yang mengalami komplikasi yang dapat dicegah selama masa perawatan.\n",
    "* **Optimalisasi utilisasi ICU:** Peningkatan efisiensi penggunaan tempat tidur ICU, dengan memastikan pasien yang tepat berada di sana pada waktu yang tepat.\n",
    "\n",
    "**2. Indikator Keberhasilan Data Mining:**\n",
    "* **Akurasi Model:** Model prediksi harus mencapai tingkat akurasi yang tinggi (misalnya, di atas 90%) pada data pengujian yang belum pernah dilihat sebelumnya.\n",
    "* **Tingkat *Recall* untuk Kelas 'High Risk':** Kemampuan model untuk mengidentifikasi sebagian besar pasien yang benar-benar berisiko tinggi harus sangat tinggi. Ini sangat krusial untuk meminimalkan jumlah kasus *false negative* (pasien berisiko tinggi yang salah diklasifikasikan sebagai risiko rendah).\n",
    "* **Interpretasi Model:** Model yang dihasilkan sebaiknya dapat diinterpretasikan, sehingga tim medis dapat memahami dasar dari sebuah prediksi risiko sebelum mengambil tindakan klinis.\n",
    "\n"
   ]
  }
 ],
 "metadata": {
  "language_info": {
   "name": "python"
  }
 },
 "nbformat": 4,
 "nbformat_minor": 5
}
